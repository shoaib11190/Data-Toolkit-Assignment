{
  "nbformat": 4,
  "nbformat_minor": 0,
  "metadata": {
    "colab": {
      "provenance": []
    },
    "kernelspec": {
      "name": "python3",
      "display_name": "Python 3"
    },
    "language_info": {
      "name": "python"
    }
  },
  "cells": [
    {
      "cell_type": "markdown",
      "source": [
        "** python Data Toolkit**"
      ],
      "metadata": {
        "id": "nqTk2JfE9v_e"
      }
    },
    {
      "cell_type": "markdown",
      "source": [
        "# **Question1.** What is NumPy, and why is it widely used in Python?\n",
        "\n",
        "**Ans 1.** NumPy (short for Numerical Python) is a powerful library in Python used for numerical and scientific computing. It provides support for large, multi-dimensional arrays and matrices, along with a collection of mathematical functions to operate on these arrays efficiently.\n",
        "\n",
        "**Performance:** NumPy is faster than regular Python arrays because it's written in optimized and pre-compiled C code.\n",
        "\n",
        "**Ease of Use:** NumPy provides an easy-to-use API that allows developers to perform complex numerical operations with just a few lines of code. Its array-oriented approach allows for concise and readable code.\n",
        "\n",
        "**Support for Large Datasets:** NumPy arrays are much more memory-efficient than Python lists. The library is optimized to handle large datasets and perform complex mathematical operations quickly.\n",
        "\n",
        "**Standard for Scientific Computing:** NumPy has become the de facto standard for scientific computing in Python. As a result, it’s widely used in fields like data science, machine learning, physics, engineering, economics, and finance."
      ],
      "metadata": {
        "id": "pv2xN4My-HkG"
      }
    },
    {
      "cell_type": "markdown",
      "source": [
        "# Question 2. How does broadcasting work in NumPy?\n",
        "\n",
        "**Ans 2.** Broadcasting in NumPy is a set of rules that allow NumPy to perform arithmetic operations on arrays of different shapes. It automatically expands the smaller array to match the shape of the larger one, element-wise, without explicitly copying the data.\n",
        "\n",
        "**How Broadcasting Works:**\n",
        "When performing an operation between two arrays (like addition, subtraction, multiplication), NumPy compares the shapes of the arrays and applies the broadcasting rules to make them compatible for element-wise operations."
      ],
      "metadata": {
        "id": "LS0qwxiP_PUv"
      }
    },
    {
      "cell_type": "markdown",
      "source": [
        "# **Question 3.** What is a Pandas DataFrame?\n",
        "\n",
        "**Ans 3.** A Pandas DataFrame is a two-dimensional, size-mutable, and potentially heterogeneous tabular data structure in Python, which is part of the Pandas library. It is one of the most commonly used structures for working with structured data and is often compared to a spreadsheet or SQL table."
      ],
      "metadata": {
        "id": "3LOzpi0X-wua"
      }
    },
    {
      "cell_type": "markdown",
      "source": [
        "# **Question 4.** Explain the use of the groupby() method in Pandas?\n",
        "\n",
        "**Ans 4.** Groupby() is a powerful function in pandas that allows you to group data based on a single column or more. You can apply many operations to a groupby object, including aggregation functions like sum(), mean(), and count(), as well as lambda function and other custom functions using apply()."
      ],
      "metadata": {
        "id": "OuhjEPeA-j6u"
      }
    },
    {
      "cell_type": "markdown",
      "source": [
        "# **Question 5. Why is Seaborn preferred for statistical visualizations?**\n",
        "\n",
        "Ans 5. The power of Seaborn lies in its ability to seamlessly integrate with pandas, one of Python's most popular libraries for data manipulation. This integration allows users to visualize pandas DataFrames directly, making the transition from data analysis to data visualization incredibly smooth."
      ],
      "metadata": {
        "id": "Tui7Ix2ZDQaE"
      }
    },
    {
      "cell_type": "markdown",
      "source": [
        "# Question 6. What are the differences between NumPy arrays and Python lists?\n",
        "\n",
        "Ans 6. **NumPy Arrays:**\n",
        "**Homogeneous:** All elements in a NumPy array must be of the same data type (e.g., all integers, all floats). This enables NumPy to perform operations more efficiently.\n",
        "\n",
        "**Python Lists:**\n",
        "Heterogeneous: A Python list can contain elements of different data types (e.g., integers, strings, floats, etc.), which offers greater flexibility but sacrifices performance in some cases.\n",
        "\n",
        "**Performance:**\n",
        "Faster:\n",
        "**NumPy Arrays:** NumPy arrays are optimized for numerical computations and perform better, especially with large datasets. They are implemented in C, which provides better performance for mathematical and statistical operations.\n",
        "\n",
        "Python Lists:\n",
        "**Slower:**\n",
        "Python lists are general-purpose containers and are not optimized for numerical tasks. Operations on Python lists, especially large ones, can be much slower.\n",
        "\n",
        "\n",
        "\n",
        "\n"
      ],
      "metadata": {
        "id": "eRzu7J1uEidx"
      }
    },
    {
      "cell_type": "markdown",
      "source": [
        "# Question 7. What is a heatmap, and when should it be used?\n",
        "\n",
        "**Ans 7.** A heatmap is a data visualization that represents data values in a matrix or grid using colors. The color intensity corresponds to the magnitude of the data values, with certain color gradients or hues indicating high or low values. Heatmaps are commonly used to display complex datasets where individual data points are less important than the overall patterns, trends, or relationships between variables.\n",
        "\n",
        "**When to Use a Heatmap?**\n",
        "\n",
        "A heatmap is useful when you want to visualize the relationships between two or more variables in a dataset, especially when:\n",
        "\n",
        "Correlation or Relationships: You want to observe the relationship between variables (e.g., in correlation matrices).\n",
        "\n",
        "**Large Datasets:** You are working with large datasets where plotting all data points individually may not be effective.\n",
        "Trends and Patterns: You want to identify patterns, anomalies, or areas of high/low intensity in the data at a glance."
      ],
      "metadata": {
        "id": "Oen4IAYcM1LQ"
      }
    },
    {
      "cell_type": "markdown",
      "source": [
        "# Question 8. What does the term “vectorized operation” mean in NumPy?\n",
        "\n",
        "**Ans 8.** Vectorized Operations in NumPy. Vectorization in NumPy is a method of performing operations on entire arrays without explicit loops. This approach leverages NumPy's underlying C implementation for faster and more efficient computations."
      ],
      "metadata": {
        "id": "hxEIVG34NRm5"
      }
    },
    {
      "cell_type": "markdown",
      "source": [
        "**# Question 9. How does Matplotlib differ from Plotly?**\n",
        "\n",
        "**Ans 9. **Matplotlib is more explicit in declaring each plot element, making it an ideal place for new Python users to start, while Plotly is well-suited for creating interactive plots to be displayed in a web browser."
      ],
      "metadata": {
        "id": "rVnz_a0sPdDC"
      }
    },
    {
      "cell_type": "markdown",
      "source": [
        "# **Question 10. What is the significance of hierarchical indexing in Pandas?**\n",
        "\n",
        "Ans 10. What are the Advantages of Hierarchical Indexing? In pandas, MultiIndexes can help to provide optimized queries and preserve relationships. MultiIndexes are themselves data values, and pandas handles them as such in queries, but the full contents of a hierarchical index are displayable in the results view."
      ],
      "metadata": {
        "id": "I-Rvxji6QNr9"
      }
    },
    {
      "cell_type": "markdown",
      "source": [
        "# **Question 11. What is the role of Seaborn’s pairplot() function?**\n",
        "\n",
        "**Ans 11.** The Seaborn pairplot function in Python creates a grid of scatterplots to visualize relationships between variables in a dataset. It's a powerful tool for exploratory data analysis."
      ],
      "metadata": {
        "id": "tyl83dg1QPBz"
      }
    },
    {
      "cell_type": "markdown",
      "source": [
        "# Question 12.What is the purpose of the describe() function in Pandas?\n",
        "\n",
        "**Ans 12.** The describe() function in Pandas is used to generate descriptive statistics for columns in a DataFrame. It provides a quick summary of key statistical metrics, such as the mean, standard deviation, and percentiles."
      ],
      "metadata": {
        "id": "uzufojE9QOuk"
      }
    },
    {
      "cell_type": "markdown",
      "source": [
        "# Question 13.Why is handling missing data important in Pandas?\n",
        "\n",
        "**Ans 13.** Handling missing data in Pandas is important because it can affect the accuracy of your analysis and conclusions. Missing data can occur for many reasons, including errors in data collection or merging datasets."
      ],
      "metadata": {
        "id": "r9cBTlDiQOcf"
      }
    },
    {
      "cell_type": "markdown",
      "source": [
        "# Qestion 14.What are the benefits of using Plotly for data visualization?\n",
        "\n",
        "Ans 14. It allows you to create interactive and customizable charts easily. Plotly supports various chart types and integrates seamlessly with Python, R, and JavaScript. Its interactive features, like zoom and hover, enhance data exploration, and you can share your visualizations online, making it great for collaboration."
      ],
      "metadata": {
        "id": "U0xn2psHQOCe"
      }
    },
    {
      "cell_type": "markdown",
      "source": [
        "# Question 15. How does NumPy handle multidimensional arrays?\n",
        "\n",
        "**Ans 15.** A NumPy array is a homogeneous block of data organized in a multidimensional finite grid. All elements of the array share the same data type, also called dtype (integer, floating-point number, and so on). The shape of the array is an n-tuple that gives the size of each axis."
      ],
      "metadata": {
        "id": "4GZtxSlwTe9q"
      }
    },
    {
      "cell_type": "markdown",
      "source": [
        "# Question 16. What is the role of Bokeh in data visualization?\n",
        "\n",
        "\n",
        "**Ans 16.** Bokeh is a powerful and flexible data visualization library in Python that focuses on creating interactive, high-performance visualizations for web applications. It is particularly well-suited for creating real-time and interactive plots, dashboards, and visualizations in modern web browsers. Here's an overview of the role Bokeh plays in data visualization:"
      ],
      "metadata": {
        "id": "9VHgt3WFUCIZ"
      }
    },
    {
      "cell_type": "markdown",
      "source": [
        "# Question 17. Explain the difference between apply() and map() in Pandas?\n",
        "\n",
        "Ans 17. While map is great for simple element-wise transformations in Series, apply offers more flexibility for both Series and DataFrame objects."
      ],
      "metadata": {
        "id": "UtGtDDzzUXWi"
      }
    },
    {
      "cell_type": "markdown",
      "source": [
        "# Question 18. What are some advanced features of NumPy?\n",
        "\n",
        "**Ans 18.**\n",
        "**NumPy has many advanced features, including:**\n",
        "Broadcasting: A mechanism that allows NumPy to perform operations on arrays of different shapes.\n",
        "Structured arrays: A feature that allows you to work with arrays that have different data types.\n",
        "\n",
        "**Fancy indexing: ** feature that provides powerful ways to index and manipulate arrays.\n",
        "\n",
        "**Vectorization:** A feature that can help you write faster, more concise, and more powerful code.\n",
        "\n",
        "**Linear algebra:** A feature that allows you to perform complex linear algebra operations.\n",
        "Fourier transform: A feature that allows you to perform Fourier transforms.\n",
        "Random number generation: A feature that allows you to generate random numbers.\n",
        "**Masked arrays:** A feature that allows you to work with masked arrays.\n",
        "**Interoperability: **\n",
        "A feature that allows NumPy to integrate with other libraries and tools in the Python ecosystem.\n",
        "N-dimensional arrays: A feature that allows you to write arrays that can store and manipulate large datasets."
      ],
      "metadata": {
        "id": "i3KnpMblVG44"
      }
    },
    {
      "cell_type": "markdown",
      "source": [
        "# Question 19. How does Pandas simplify time series analysis?\n",
        "\n",
        "**Ans 19.** Pandas simplifies time series analysis by providing a rich set of tools and functionality for working with time-indexed data. It is widely used for tasks such as financial analysis, signal processing, and any other domain where time plays a critical role in the data. Here are the key ways in which Pandas simplifies time series analysis:\n",
        "\n",
        "**DateTime Indexing:**\n",
        "Pandas has powerful support for datetime indexing, allowing you to create and manipulate time series data efficiently. It enables automatic alignment of data based on timestamps, making it easy to work with time-indexed data.\n",
        "\n",
        "**Resampling:**\n",
        "Pandas allows for resampling of time series data to different time frequencies, such as converting daily data to monthly data, or downsampling from higher to lower frequencies (e.g., converting minute-level data to hourly or daily data).\n",
        "\n",
        "**Time Shifting:**\n",
        "Pandas provides functionality to shift time series data forward or backward in time, which is useful for calculating differences or creating lag features (important in time series forecasting models).\n",
        "\n",
        "**Rolling and Expanding Window Calculations:**\n",
        "\n",
        "Pandas provides the ability to perform rolling window operations (e.g., calculating moving averages or rolling sums) using the .rolling() method.\n",
        "\n",
        "**Datetime Functions and Features:**\n",
        "Pandas provides a wide range of functions to extract and manipulate datetime components, such as the year, month, day, hour, weekday, etc."
      ],
      "metadata": {
        "id": "9-pJ-usdVGaH"
      }
    },
    {
      "cell_type": "markdown",
      "source": [
        "# Question 20. What is the role of a pivot table in Pandas?\n",
        "\n",
        "**Ans 20.** The pivot function in Pandas is a method used to reshape data by transforming rows into columns. The Pandas pivot function comes into play when there's a need to rearrange data from a “long” format to a “wide” format.\n",
        "\n",
        "**Key Roles and Features of Pivot Tables in Pandas:**\n",
        "\n",
        "**Summarization of Data:** A pivot table allows you to group data by one or more categorical variables (columns) and then perform an aggregation (e.g., sum, mean, count) on another variable.\n",
        "\n",
        "**Multi-dimensional Data Representation:** Pivot tables allow you to organize data along multiple axes, making it easier to analyze complex data from different perspectives.\n",
        "\n",
        "**Aggregation Functions:**\n",
        "Pivot tables support various aggregation functions such as sum, mean, count, min, max, and custom aggregation functions. These help in computing summary statistics on the grouped data.\n",
        "\n",
        "**Data Transformation:**"
      ],
      "metadata": {
        "id": "ZzaUS1F-Xd2-"
      }
    },
    {
      "cell_type": "markdown",
      "source": [
        "# Question 21. Why is NumPy’s array slicing faster than Python’s list slicing?\n",
        "\n",
        "**Ans 21.** NumPy’s array slicing is faster than Python’s list slicing for several reasons, primarily related to how data is stored and accessed in memory, as well as the internal optimizations that NumPy employs.\n",
        "\n",
        "**Contiguous Memory Allocation:**\n",
        "NumPy arrays are stored in a contiguous block of memory, meaning all elements of the array are laid out next to each other in a single, continuous memory region.\n",
        "\n",
        "Python lists, on the other hand, are more complex objects where each list element is a reference to an object, which may not be contiguous in memory.\n",
        "\n",
        "**Vectorized Operations and C-Implementation:**\n",
        "\n",
        "NumPy is written in C and has many low-level optimizations. When slicing an array, NumPy essentially just creates a view (a reference) on the original array, rather than copying the data. It can access and modify memory directly, which is faster than the pure Python list slicing mechanism.\n",
        "\n",
        "Python lists involve additional overhead since the slicing operation results in the creation of a new list, which requires copying the elements and managing memory allocations, both of which take time.\n",
        "\n",
        "**Optimized Access and Stride Calculation:**\n",
        "\n",
        "NumPy provides an efficient internal mechanism for handling multi-dimensional arrays. When you slice an array, NumPy uses \"strides\" to access elements at regular intervals, making the process of retrieving data very fast and efficient.\n",
        "\n",
        "Python lists lack this internal stride mechanism, and slicing involves iterating over the list to create the new sublist, which is slower.\n",
        "\n",
        "**Lower-level Memory Management in NumPy: **\n",
        "\n",
        "NumPy uses advanced memory management techniques like buffer protocols, which allow for efficient memory usage and slicing. It can work directly with raw memory buffers without needing additional Python-level abstractions.\n",
        "\n",
        "Python lists are high-level abstractions and are not as fine-tuned for speed as NumPy arrays, meaning the operations are inherently slower."
      ],
      "metadata": {
        "id": "JtrYiRXFXeao"
      }
    },
    {
      "cell_type": "markdown",
      "source": [
        "# Practical...."
      ],
      "metadata": {
        "id": "75pFOLN6cBiO"
      }
    },
    {
      "cell_type": "code",
      "execution_count": null,
      "metadata": {
        "id": "RtnoBRnm9fp0"
      },
      "outputs": [],
      "source": [
        "# Question 1. How do you create a 2D NumPy array and calculate the sum of each row?\n",
        "\n",
        "'''\n",
        "\n",
        "# Create a 2D NumPy array\n",
        "array_2d = np.array([[1, 2, 3], [4, 5, 6], [7, 8, 9]])\n",
        "\n",
        "# Calculate the sum of each row\n",
        "row_sums = array_2d.sum(axis=1)\n",
        "\n",
        "# Display the result\n",
        "print(row_sums)\n",
        "\n",
        "\n",
        "'''"
      ]
    },
    {
      "cell_type": "code",
      "source": [
        "# Question 2. Write a Pandas script to find the mean of a specific column in a DataFrame?\n",
        "\n",
        "'''\n",
        "# Create a sample DataFrame\n",
        "data = {\n",
        "    'A': [10, 20, 30, 40, 50],\n",
        "    'B': [5, 15, 25, 35, 45],\n",
        "    'C': [2, 4, 6, 8, 10]\n",
        "}\n",
        "\n",
        "df = pd.DataFrame(data)\n",
        "\n",
        "# Calculate the mean of column 'A'\n",
        "mean_A = df['A'].mean()\n",
        "\n",
        "# Display the result\n",
        "print(f\"The mean of column 'A' is: {mean_A}\")\n",
        "\n",
        "\n",
        "'''"
      ],
      "metadata": {
        "id": "71GW9oaxc5Nb"
      },
      "execution_count": null,
      "outputs": []
    },
    {
      "cell_type": "code",
      "source": [
        "# Qustion 3. Create a scatter plot using Matplotlib?\n",
        "\n",
        "'''\n",
        "import matplotlib.pyplot as plt\n",
        "\n",
        "# Sample data\n",
        "x = [1, 2, 3, 4, 5]\n",
        "y = [5, 7, 9, 11, 13]\n",
        "\n",
        "# Create a scatter plot\n",
        "plt.scatter(x, y)\n",
        "\n",
        "# Add labels and a title\n",
        "plt.xlabel('X Axis')\n",
        "plt.ylabel('Y Axis')\n",
        "plt.title('Scatter Plot Example')\n",
        "\n",
        "# Show the plot\n",
        "plt.show()\n",
        "\n",
        "'''"
      ],
      "metadata": {
        "id": "k-hAZSnAdOX6"
      },
      "execution_count": null,
      "outputs": []
    },
    {
      "cell_type": "code",
      "source": [
        "# Question 4. How do you calculate the correlation matrix using Seaborn and visualize it with a heatmap?\n",
        "\n",
        "'''\n",
        "import pandas as pd\n",
        "import seaborn as sns\n",
        "import matplotlib.pyplot as plt\n",
        "\n",
        "# Sample DataFrame\n",
        "data = {\n",
        "    'A': [1, 2, 3, 4, 5],\n",
        "    'B': [5, 4, 3, 2, 1],\n",
        "    'C': [2, 3, 4, 5, 6],\n",
        "    'D': [5, 6, 7, 8, 9]\n",
        "}\n",
        "\n",
        "df = pd.DataFrame(data)\n",
        "\n",
        "# Calculate the correlation matrix\n",
        "corr_matrix = df.corr()\n",
        "\n",
        "# Create a heatmap of the correlation matrix\n",
        "plt.figure(figsize=(8, 6))  # Set the figure size\n",
        "sns.heatmap(corr_matrix, annot=True, cmap='coolwarm', fmt='.2f', cbar=True)\n",
        "\n",
        "# Add a title\n",
        "plt.title('Correlation Matrix Heatmap')\n",
        "\n",
        "# Show the plot\n",
        "plt.show()\n",
        "\n",
        "'''"
      ],
      "metadata": {
        "id": "2wGJgDSidvvx"
      },
      "execution_count": null,
      "outputs": []
    },
    {
      "cell_type": "code",
      "source": [
        "# Question 5. Generate a bar plot using Plotly?\n",
        "\n",
        "'''\n",
        "import plotly.express as px\n",
        "\n",
        "# Sample data\n",
        "data = {\n",
        "    'Category': ['A', 'B', 'C', 'D', 'E'],\n",
        "    'Values': [10, 15, 7, 25, 18]\n",
        "}\n",
        "\n",
        "# Create a DataFrame (using pandas)\n",
        "import pandas as pd\n",
        "df = pd.DataFrame(data)\n",
        "\n",
        "# Generate the bar plot\n",
        "fig = px.bar(df, x='Category', y='Values', title='Bar Plot Example')\n",
        "\n",
        "# Show the plot\n",
        "fig.show()\n",
        "\n",
        "'''"
      ],
      "metadata": {
        "id": "oYqyDGGTd60z"
      },
      "execution_count": null,
      "outputs": []
    },
    {
      "cell_type": "code",
      "source": [
        "# Question 6. Create a DataFrame and add a new column based on an existing column?\n",
        "\n",
        "'''\n",
        "# Create a sample DataFrame\n",
        "data = {\n",
        "    'A': [10, 20, 30, 40, 50],\n",
        "    'B': [5, 15, 25, 35, 45]\n",
        "}\n",
        "\n",
        "# Assuming pandas is already imported and pd is available\n",
        "df = pd.DataFrame(data)\n",
        "\n",
        "# Add a new column 'C' which is the sum of columns 'A' and 'B'\n",
        "df['C'] = df['A'] + df['B']\n",
        "\n",
        "# Display the updated DataFrame\n",
        "print(df)\n",
        "\n",
        "\n",
        "'''"
      ],
      "metadata": {
        "id": "4a8GwpsjeYvp"
      },
      "execution_count": null,
      "outputs": []
    },
    {
      "cell_type": "code",
      "source": [
        "# Question 7. Write a program to perform element-wise multiplication of two NumPy arrays?\n",
        "\n",
        "'''\n",
        "import numpy as np\n",
        "\n",
        "# Create two NumPy arrays\n",
        "array1 = np.array([1, 2, 3, 4])\n",
        "array2 = np.array([5, 6, 7, 8])\n",
        "\n",
        "# Perform element-wise multiplication\n",
        "result = array1 * array2\n",
        "\n",
        "# Display the result\n",
        "print(\"Element-wise multiplication result:\", result)\n",
        "\n",
        "'''"
      ],
      "metadata": {
        "id": "_zlMeg7_e9HE"
      },
      "execution_count": null,
      "outputs": []
    },
    {
      "cell_type": "code",
      "source": [
        "# Question 8. Create a line plot with multiple lines using Matplotlib?\n",
        "\n",
        "'''\n",
        "import matplotlib.pyplot as plt\n",
        "\n",
        "# Sample data for multiple lines\n",
        "x = [0, 1, 2, 3, 4, 5]\n",
        "y1 = [0, 1, 4, 9, 16, 25]  # Line 1\n",
        "y2 = [0, -1, -2, -3, -4, -5]  # Line 2\n",
        "y3 = [0, 2, 4, 6, 8, 10]  # Line 3\n",
        "\n",
        "# Create a line plot with multiple lines\n",
        "plt.plot(x, y1, label='y = x^2', color='b', marker='o')  # Line 1\n",
        "plt.plot(x, y2, label='y = -x', color='r', marker='x')  # Line 2\n",
        "plt.plot(x, y3, label='y = 2x', color='g', marker='s')  # Line 3\n",
        "\n",
        "# Add labels and title\n",
        "plt.xlabel('X Axis')\n",
        "plt.ylabel('Y Axis')\n",
        "plt.title('Multiple Line Plot')\n",
        "\n",
        "# Show the legend\n",
        "plt.legend()\n",
        "\n",
        "# Display the plot\n",
        "plt.show()\n",
        "\n",
        "'''\n"
      ],
      "metadata": {
        "id": "sGrs0WWke89w"
      },
      "execution_count": null,
      "outputs": []
    },
    {
      "cell_type": "code",
      "source": [
        "# Question 9. Generate a Pandas DataFrame and filter rows where a column value is greater than a threshold?\n",
        "\n",
        "'''\n",
        "\n",
        "import pandas as pd\n",
        "\n",
        "# Create a sample DataFrame\n",
        "data = {'A': [10, 15, 20, 25, 30],\n",
        "        'B': [5, 10, 15, 20, 25]}\n",
        "\n",
        "df = pd.DataFrame(data)\n",
        "\n",
        "# Define a threshold\n",
        "threshold = 20\n",
        "\n",
        "# Filter rows where values in column 'A' are greater than the threshold\n",
        "filtered_df = df[df['A'] > threshold]\n",
        "\n",
        "# Display the filtered DataFrame\n",
        "print(filtered_df)\n",
        "\n",
        "'''\n"
      ],
      "metadata": {
        "id": "rtjpwRxVe8zt"
      },
      "execution_count": null,
      "outputs": []
    },
    {
      "cell_type": "code",
      "source": [
        "# Question 10. Create a histogram using Seaborn to visualize a distribution?\n",
        "\n",
        "'''\n",
        "\n",
        "import seaborn as sns\n",
        "import matplotlib.pyplot as plt\n",
        "\n",
        "# Sample data (can be any numeric data)\n",
        "data = [10, 15, 20, 25, 30, 35, 40, 45, 50, 55, 60, 65, 70]\n",
        "\n",
        "# Create a Seaborn histogram\n",
        "sns.histplot(data, kde=True, bins=10)\n",
        "\n",
        "# Customize the plot\n",
        "plt.title(\"Histogram with Seaborn\")\n",
        "plt.xlabel(\"Values\")\n",
        "plt.ylabel(\"Frequency\")\n",
        "\n",
        "# Show the plot\n",
        "plt.show()\n",
        "\n",
        "'''\n",
        "\n"
      ],
      "metadata": {
        "id": "7-10KtlBe8oy"
      },
      "execution_count": null,
      "outputs": []
    },
    {
      "cell_type": "code",
      "source": [
        "# Question 11. Perform matrix multiplication using NumPy?\n",
        "\n",
        "'''\n",
        "import numpy as np\n",
        "\n",
        "# Define two matrices\n",
        "A = np.array([[1, 2], [3, 4]])\n",
        "B = np.array([[5, 6], [7, 8]])\n",
        "\n",
        "# Matrix multiplication using np.dot()\n",
        "C = np.dot(A, B)\n",
        "\n",
        "# Alternatively, using the @ operator\n",
        "C_alternate = A @ B\n",
        "\n",
        "print(\"Matrix C (using np.dot()):\")\n",
        "print(C)\n",
        "\n",
        "print(\"\\nMatrix C (using @ operator):\")\n",
        "print(C_alternate)\n",
        "\n",
        "'''\n"
      ],
      "metadata": {
        "id": "4lLnMea4e8Wg"
      },
      "execution_count": null,
      "outputs": []
    },
    {
      "cell_type": "code",
      "source": [
        "# Question 12. Use Pandas to load a CSV file and display its first 5 row?\n",
        "\n",
        "'''\n",
        "\n",
        "import pandas as pd\n",
        "\n",
        "# Load the CSV file into a DataFrame\n",
        "df = pd.read_csv('your_file.csv')  # Replace 'your_file.csv' with your file path\n",
        "\n",
        "# Display the first 5 rows\n",
        "print(df.head())\n",
        "\n",
        "'''\n",
        "\n"
      ],
      "metadata": {
        "id": "3XQbUliIe8DB"
      },
      "execution_count": null,
      "outputs": []
    },
    {
      "cell_type": "code",
      "source": [
        "# Question 13. Create a 3D scatter plot using Plotly.\n",
        "\n",
        "'''\n",
        "import plotly.graph_objs as go\n",
        "import plotly.express as px\n",
        "\n",
        "# Sample data for the 3D scatter plot\n",
        "x = [1, 2, 3, 4, 5]\n",
        "y = [10, 11, 12, 13, 14]\n",
        "z = [100, 200, 300, 400, 500]\n",
        "\n",
        "# Create a 3D scatter plot\n",
        "scatter_3d = go.Scatter3d(\n",
        "    x=x,\n",
        "    y=y,\n",
        "    z=z,\n",
        "    mode='markers',  # The mode can be 'markers' for scatter points\n",
        "    marker=dict(\n",
        "        size=12,  # Marker size\n",
        "        color=z,  # Marker color based on the z values\n",
        "        colorscale='Viridis',  # Color scale\n",
        "        opacity=0.8  # Marker opacity\n",
        "    )\n",
        ")\n",
        "\n",
        "# Layout for the plot\n",
        "layout = go.Layout(\n",
        "    title=\"3D Scatter Plot\",\n",
        "    scene=dict(\n",
        "        xaxis_title='X Axis',\n",
        "        yaxis_title='Y Axis',\n",
        "        zaxis_title='Z Axis'\n",
        "    )\n",
        ")\n",
        "\n",
        "# Create the figure and display it\n",
        "fig = go.Figure(data=[scatter_3d], layout=layout)\n",
        "fig.show()\n",
        "\n",
        "'''\n"
      ],
      "metadata": {
        "id": "KFO0ugDWe7WC"
      },
      "execution_count": null,
      "outputs": []
    }
  ]
}